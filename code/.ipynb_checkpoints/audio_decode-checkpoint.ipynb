{
 "cells": [
  {
   "cell_type": "markdown",
   "metadata": {},
   "source": [
    "##### 1. 音频文件加载"
   ]
  },
  {
   "cell_type": "code",
   "execution_count": null,
   "metadata": {},
   "outputs": [],
   "source": [
    "from __future__ import absolute_import\n",
    "from __future__ import division\n",
    "from __future__ import print_function\n",
    "\n",
    "import numpy as np\n",
    "import tensorflow as tf\n",
    "print(tf.__version__)\n",
    "\n",
    "from tensorflow.contrib.framework.python.ops import audio_ops as contrib_audio\n",
    "from tensorflow.python.ops import io_ops"
   ]
  },
  {
   "cell_type": "code",
   "execution_count": null,
   "metadata": {},
   "outputs": [],
   "source": [
    "filename =  \"../data/98K/audio_75490.688279.wav\"\n",
    "with tf.Session(graph=tf.Graph()) as sess:\n",
    "    wav_filename_placeholder = tf.placeholder(tf.string, [])\n",
    "    wav_loader = io_ops.read_file(wav_filename_placeholder)\n",
    "    wav_decoder = contrib_audio.decode_wav(wav_loader, desired_channels=1)\n",
    "    b = sess.run(wav_decoder,\n",
    "                 feed_dict={wav_filename_placeholder: filename}).audio\n",
    "    print(type(b))\n",
    "    print(b.shape)\n",
    "    print(b[:8])"
   ]
  },
  {
   "cell_type": "code",
   "execution_count": null,
   "metadata": {},
   "outputs": [],
   "source": [
    "import librosa\n",
    "wave, sr = librosa.load(filename,sr=48000,mono=False)\n",
    "print(sr)\n",
    "print(type(wave))\n",
    "print(wave.shape)\n",
    "print(wave[0,:8])\n",
    "print(wave[1,:8])\n"
   ]
  },
  {
   "cell_type": "code",
   "execution_count": null,
   "metadata": {},
   "outputs": [],
   "source": [
    "import librosa\n",
    "wave, sr = librosa.load(filename,sr=48000,mono=True)\n",
    "print(sr)\n",
    "print(type(wave))\n",
    "print(wave.shape)\n",
    "#这里取了所有声道的相加的平均值,注意量级.\n",
    "print(wave[:8])\n"
   ]
  },
  {
   "cell_type": "code",
   "execution_count": null,
   "metadata": {
    "collapsed": true
   },
   "outputs": [],
   "source": [
    "[4.5776367e-05 3.0517578e-05 3.0517578e-05 3.0517578e-05 4.5776367e-05\n",
    " 3.0517578e-05 3.0517578e-05 1.5258789e-05]"
   ]
  }
 ],
 "metadata": {
  "kernelspec": {
   "display_name": "Python 3",
   "language": "python",
   "name": "python3"
  },
  "language_info": {
   "codemirror_mode": {
    "name": "ipython",
    "version": 3
   },
   "file_extension": ".py",
   "mimetype": "text/x-python",
   "name": "python",
   "nbconvert_exporter": "python",
   "pygments_lexer": "ipython3",
   "version": "3.6.2"
  }
 },
 "nbformat": 4,
 "nbformat_minor": 2
}
